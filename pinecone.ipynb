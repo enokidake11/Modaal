{
  "nbformat": 4,
  "nbformat_minor": 0,
  "metadata": {
    "colab": {
      "provenance": [],
      "authorship_tag": "ABX9TyMWx64cy/4dnPGBTvR7jp4u",
      "include_colab_link": true
    },
    "kernelspec": {
      "name": "python3",
      "display_name": "Python 3"
    },
    "language_info": {
      "name": "python"
    }
  },
  "cells": [
    {
      "cell_type": "markdown",
      "metadata": {
        "id": "view-in-github",
        "colab_type": "text"
      },
      "source": [
        "<a href=\"https://colab.research.google.com/github/enokidake11/Modaal/blob/master/pinecone.ipynb\" target=\"_parent\"><img src=\"https://colab.research.google.com/assets/colab-badge.svg\" alt=\"Open In Colab\"/></a>"
      ]
    },
    {
      "cell_type": "code",
      "execution_count": null,
      "metadata": {
        "colab": {
          "base_uri": "https://localhost:8080/"
        },
        "id": "Cy2X7dVCfqqZ",
        "outputId": "e55d3c57-27c6-4a52-d91f-2abfc6e5a5b0"
      },
      "outputs": [
        {
          "output_type": "stream",
          "name": "stdout",
          "text": [
            "Collecting pinecone-client\n",
            "  Downloading pinecone_client-5.0.1-py3-none-any.whl.metadata (19 kB)\n",
            "Requirement already satisfied: certifi>=2019.11.17 in /usr/local/lib/python3.10/dist-packages (from pinecone-client) (2024.8.30)\n",
            "Collecting pinecone-plugin-inference<2.0.0,>=1.0.3 (from pinecone-client)\n",
            "  Downloading pinecone_plugin_inference-1.0.3-py3-none-any.whl.metadata (2.2 kB)\n",
            "Collecting pinecone-plugin-interface<0.0.8,>=0.0.7 (from pinecone-client)\n",
            "  Downloading pinecone_plugin_interface-0.0.7-py3-none-any.whl.metadata (1.2 kB)\n",
            "Requirement already satisfied: tqdm>=4.64.1 in /usr/local/lib/python3.10/dist-packages (from pinecone-client) (4.66.5)\n",
            "Requirement already satisfied: typing-extensions>=3.7.4 in /usr/local/lib/python3.10/dist-packages (from pinecone-client) (4.12.2)\n",
            "Requirement already satisfied: urllib3>=1.26.0 in /usr/local/lib/python3.10/dist-packages (from pinecone-client) (2.0.7)\n",
            "Downloading pinecone_client-5.0.1-py3-none-any.whl (244 kB)\n",
            "\u001b[2K   \u001b[90m━━━━━━━━━━━━━━━━━━━━━━━━━━━━━━━━━━━━━━━━\u001b[0m \u001b[32m244.8/244.8 kB\u001b[0m \u001b[31m5.9 MB/s\u001b[0m eta \u001b[36m0:00:00\u001b[0m\n",
            "\u001b[?25hDownloading pinecone_plugin_inference-1.0.3-py3-none-any.whl (117 kB)\n",
            "\u001b[2K   \u001b[90m━━━━━━━━━━━━━━━━━━━━━━━━━━━━━━━━━━━━━━━━\u001b[0m \u001b[32m117.6/117.6 kB\u001b[0m \u001b[31m3.2 MB/s\u001b[0m eta \u001b[36m0:00:00\u001b[0m\n",
            "\u001b[?25hDownloading pinecone_plugin_interface-0.0.7-py3-none-any.whl (6.2 kB)\n",
            "Installing collected packages: pinecone-plugin-interface, pinecone-plugin-inference, pinecone-client\n",
            "Successfully installed pinecone-client-5.0.1 pinecone-plugin-inference-1.0.3 pinecone-plugin-interface-0.0.7\n"
          ]
        }
      ],
      "source": [
        "!pip install --upgrade pinecone-client"
      ]
    },
    {
      "cell_type": "code",
      "source": [
        "from pinecone import Pinecone\n",
        "\n",
        "\n",
        "\n",
        "pc = Pinecone(api_key=\"3700e219-e811-4558-b500-e24143eec023\")\n",
        "\n",
        "#https://app.pinecone.io/"
      ],
      "metadata": {
        "id": "7Z-LGXThfv5q"
      },
      "execution_count": null,
      "outputs": []
    },
    {
      "cell_type": "code",
      "source": [
        "index = pc.Index(\"multilingual-e5-large\")\n"
      ],
      "metadata": {
        "id": "NDrR8FwLjNz8"
      },
      "execution_count": null,
      "outputs": []
    },
    {
      "cell_type": "code",
      "source": [
        "\n",
        "# Embed data\n",
        "data = [\n",
        "    {\"id\": \"vec1\", \"text\": \"観光にきています。現在香港にいます。\"},\n",
        "    {\"id\": \"vec2\", \"text\": \"こんばんは、明日の朝から仕事があります。\"},\n",
        "    {\"id\": \"vec3\", \"text\": \"一番面白いマンガはワンピースだと思います。\"},\n",
        "    {\"id\": \"vec4\", \"text\": \"岸田文雄首相（自民党総裁）の後継を決める総裁選の候補者9名は、13日午後1時から共同記者会見を行う。\"},\n",
        "    {\"id\": \"vec5\", \"text\": \"ヤクルトは13日、球界野手最年長のヤクルト・青木宣親外野手（42）が今季限りで現役を引退すると発表した。同日午後に記者会見を開く予定。\"},\n",
        "    {\"id\": \"vec6\", \"text\": \"台湾ついたわん\"},\n",
        "    {\"id\": \"vec7\", \"text\": \"【朗報】豪華クルーズ客船に置いてけぼりを喰らわされた乗客さん、衝撃のラストを迎える\"},\n",
        "\n",
        "\n",
        "]\n",
        "\n",
        "embeddings = pc.inference.embed(\n",
        "    \"multilingual-e5-large\",\n",
        "    inputs=[d['text'] for d in data],\n",
        "    parameters={\n",
        "        \"input_type\": \"passage\"\n",
        "    }\n",
        ")\n",
        "\n",
        "vectors = []\n",
        "for d, e in zip(data, embeddings):\n",
        "    vectors.append({\n",
        "        \"id\": d['id'],\n",
        "        \"values\": e['values'],\n",
        "        \"metadata\": {'text': d['text']}\n",
        "    })\n",
        "\n",
        "index.upsert(\n",
        "    vectors=vectors,\n",
        "    namespace=\"ns1\"\n",
        ")\n",
        "\n"
      ],
      "metadata": {
        "colab": {
          "base_uri": "https://localhost:8080/"
        },
        "id": "v2274Mjef2Q5",
        "outputId": "6e6361bb-e8d3-4663-e1db-c12ce205da46"
      },
      "execution_count": null,
      "outputs": [
        {
          "output_type": "execute_result",
          "data": {
            "text/plain": [
              "{'upserted_count': 7}"
            ]
          },
          "metadata": {},
          "execution_count": 55
        }
      ]
    },
    {
      "cell_type": "code",
      "source": [
        "query = \"あなた、今、どこにいるの?\"\n",
        "\n",
        "x = pc.inference.embed( model=\"multilingual-e5-large\", inputs=[query],  parameters={ \"input_type\": \"query\" } )\n",
        "results = index.query(  namespace=\"ns1\", vector=x[0].values, top_k=7,include_values=False,  include_metadata=True )\n",
        "\n",
        "print(query)\n",
        "print(results)"
      ],
      "metadata": {
        "colab": {
          "base_uri": "https://localhost:8080/"
        },
        "id": "jtsXeuB2klER",
        "outputId": "cdc073d3-c2ff-471a-e855-e2c1d2319f32"
      },
      "execution_count": null,
      "outputs": [
        {
          "output_type": "stream",
          "name": "stdout",
          "text": [
            "あなた、今、どこにいるの?\n",
            "{'matches': [{'id': 'vec1',\n",
            "              'metadata': {'text': 'こんにちは、観光にきています。現在香港にいます。'},\n",
            "              'score': 0.828451216,\n",
            "              'values': []},\n",
            "             {'id': 'vec6',\n",
            "              'metadata': {'text': '台湾ついたわん'},\n",
            "              'score': 0.785903215,\n",
            "              'values': []},\n",
            "             {'id': 'vec7',\n",
            "              'metadata': {'text': '【朗報】豪華クルーズ客船に置いてけぼりを喰らわされた乗客さん、衝撃のラストを迎える'},\n",
            "              'score': 0.784689128,\n",
            "              'values': []},\n",
            "             {'id': 'vec2',\n",
            "              'metadata': {'text': 'こんばんは、明日の朝から仕事があります。'},\n",
            "              'score': 0.768387616,\n",
            "              'values': []},\n",
            "             {'id': 'vec5',\n",
            "              'metadata': {'text': 'ヤクルトは13日、球界野手最年長のヤクルト・青木宣親外野手（42）が今季限りで現役を引退すると発表した。同日午後に記者会見を開く予定。'},\n",
            "              'score': 0.753917336,\n",
            "              'values': []},\n",
            "             {'id': 'vec4',\n",
            "              'metadata': {'text': '岸田文雄首相（自民党総裁）の後継を決める総裁選の候補者9名は、13日午後1時から共同記者会見を行う。'},\n",
            "              'score': 0.751764894,\n",
            "              'values': []},\n",
            "             {'id': 'vec3',\n",
            "              'metadata': {'text': '一番面白いマンガはワンピースだと思います。'},\n",
            "              'score': 0.744246781,\n",
            "              'values': []}],\n",
            " 'namespace': 'ns1',\n",
            " 'usage': {'read_units': 6}}\n"
          ]
        }
      ]
    },
    {
      "cell_type": "code",
      "source": [
        "query = \"漫画の話して\"\n",
        "\n",
        "x = pc.inference.embed( model=\"multilingual-e5-large\", inputs=[query],  parameters={ \"input_type\": \"query\" } )\n",
        "results = index.query(  namespace=\"ns1\", vector=x[0].values, top_k=7,include_values=False,  include_metadata=True )\n",
        "\n",
        "print(query)\n",
        "print(results)"
      ],
      "metadata": {
        "colab": {
          "base_uri": "https://localhost:8080/"
        },
        "id": "vnsnvCw5mZk4",
        "outputId": "fb5ef79b-fb0b-4b57-ec00-7229254c020c"
      },
      "execution_count": null,
      "outputs": [
        {
          "output_type": "stream",
          "name": "stdout",
          "text": [
            "漫画の話して\n",
            "{'matches': [{'id': 'vec3',\n",
            "              'metadata': {'text': '一番面白いマンガはワンピースだと思います。'},\n",
            "              'score': 0.817928195,\n",
            "              'values': []},\n",
            "             {'id': 'vec6',\n",
            "              'metadata': {'text': '台湾ついたわん'},\n",
            "              'score': 0.77139461,\n",
            "              'values': []},\n",
            "             {'id': 'vec1',\n",
            "              'metadata': {'text': '観光にきています。現在香港にいます。'},\n",
            "              'score': 0.762051463,\n",
            "              'values': []},\n",
            "             {'id': 'vec2',\n",
            "              'metadata': {'text': 'こんばんは、明日の朝から仕事があります。'},\n",
            "              'score': 0.755271494,\n",
            "              'values': []},\n",
            "             {'id': 'vec7',\n",
            "              'metadata': {'text': '【朗報】豪華クルーズ客船に置いてけぼりを喰らわされた乗客さん、衝撃のラストを迎える'},\n",
            "              'score': 0.74570936,\n",
            "              'values': []},\n",
            "             {'id': 'vec5',\n",
            "              'metadata': {'text': 'ヤクルトは13日、球界野手最年長のヤクルト・青木宣親外野手（42）が今季限りで現役を引退すると発表した。同日午後に記者会見を開く予定。'},\n",
            "              'score': 0.736053765,\n",
            "              'values': []},\n",
            "             {'id': 'vec4',\n",
            "              'metadata': {'text': '岸田文雄首相（自民党総裁）の後継を決める総裁選の候補者9名は、13日午後1時から共同記者会見を行う。'},\n",
            "              'score': 0.72968924,\n",
            "              'values': []}],\n",
            " 'namespace': 'ns1',\n",
            " 'usage': {'read_units': 6}}\n"
          ]
        }
      ]
    },
    {
      "cell_type": "code",
      "source": [],
      "metadata": {
        "id": "T8YqhMFduGeH"
      },
      "execution_count": null,
      "outputs": []
    }
  ]
}